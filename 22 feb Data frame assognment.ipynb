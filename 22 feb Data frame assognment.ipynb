{
 "cells": [
  {
   "cell_type": "code",
   "execution_count": 1,
   "id": "0da68177",
   "metadata": {},
   "outputs": [],
   "source": [
    "pd=(4,8,15,16,23,42)"
   ]
  },
  {
   "cell_type": "code",
   "execution_count": 2,
   "id": "28bf1243",
   "metadata": {},
   "outputs": [
    {
     "name": "stdout",
     "output_type": "stream",
     "text": [
      "(4, 8, 15, 16, 23, 42)\n"
     ]
    }
   ],
   "source": [
    "print (pd)"
   ]
  },
  {
   "cell_type": "code",
   "execution_count": 3,
   "id": "24a6592e",
   "metadata": {},
   "outputs": [
    {
     "name": "stdout",
     "output_type": "stream",
     "text": [
      "0    1\n",
      "1    3\n",
      "2    4\n",
      "3    7\n",
      "dtype: object\n"
     ]
    }
   ],
   "source": [
    "import pandas as pd\n",
    "x=pd.Series(['1','3','4','7'])\n",
    "print(x)"
   ]
  },
  {
   "cell_type": "code",
   "execution_count": 4,
   "id": "8d48f812",
   "metadata": {},
   "outputs": [
    {
     "name": "stdout",
     "output_type": "stream",
     "text": [
      "        0\n",
      "0   samad\n",
      "1   tofee\n",
      "2  portal\n"
     ]
    }
   ],
   "source": [
    "import pandas as pd \n",
    "lst=['samad','tofee','portal']\n",
    "df=pd.DataFrame(lst)\n",
    "print(df)\n"
   ]
  },
  {
   "cell_type": "code",
   "execution_count": 5,
   "id": "26b1314c",
   "metadata": {},
   "outputs": [],
   "source": [
    "data={'Name':['Alice','Bob','Claire'],'Age':['25','30','27'],'Gender':['Female','Male','Female']}"
   ]
  },
  {
   "cell_type": "code",
   "execution_count": 7,
   "id": "4db6b593",
   "metadata": {},
   "outputs": [
    {
     "name": "stdout",
     "output_type": "stream",
     "text": [
      "     Name Age  Gender\n",
      "0   Alice  25  Female\n",
      "1     Bob  30    Male\n",
      "2  Claire  27  Female\n"
     ]
    }
   ],
   "source": [
    "df1=pd.DataFrame(data)\n",
    "print(df1)"
   ]
  },
  {
   "cell_type": "code",
   "execution_count": 8,
   "id": "68dc5d20",
   "metadata": {},
   "outputs": [],
   "source": [
    "##What is ‘DataFrame’ in pandas and how is it different from pandas.series? Explain with an example."
   ]
  },
  {
   "cell_type": "code",
   "execution_count": 9,
   "id": "4c71b4af",
   "metadata": {},
   "outputs": [],
   "source": [
    "##DataFrame is a 2-dimensional labeled data structure with columns of potentially different types. You can think of it like a spreadsheet or SQL table, or a dict of Series objects. It is generally the most commonly used pandas object."
   ]
  },
  {
   "cell_type": "code",
   "execution_count": 11,
   "id": "612845b7",
   "metadata": {},
   "outputs": [],
   "source": [
    "##Most Important Pandas Functions for Data Science\n",
    "##read_csv() This is one of the most crucial pandas methods in Python. ... head() head(n) is used to return the first n rows of a dataset. ...describe() ...memory_usage() ...astype() ...loc[:] ...to_datetime() ...value_counts()"
   ]
  },
  {
   "cell_type": "code",
   "execution_count": 12,
   "id": "114ead1a",
   "metadata": {},
   "outputs": [],
   "source": [
    "##DataFrames are both value and size-mutable (A Series, by contrast, is only value-mutable, not size-mutable. The length of a Series cannot be changed although the values can be changed"
   ]
  },
  {
   "cell_type": "code",
   "execution_count": 13,
   "id": "c4a85f9d",
   "metadata": {},
   "outputs": [
    {
     "name": "stdout",
     "output_type": "stream",
     "text": [
      "Create pandas Series:\n",
      "          0      1     2\n",
      "0    Spark  22000  1000\n",
      "1  PySpark  25000  2300\n",
      "2   Hadoop  23000  1000\n"
     ]
    }
   ],
   "source": [
    "import pandas as pd\n",
    "\n",
    "# Create pandas Series\n",
    "courses = pd.Series([\"Spark\",\"PySpark\",\"Hadoop\"])\n",
    "fees = pd.Series([22000,25000,23000])\n",
    "discount  = pd.Series([1000,2300,1000])\n",
    "\n",
    "# Combine two series.\n",
    "df=pd.concat([courses,fees],axis=1)\n",
    "\n",
    "# It also supports to combine multiple series.\n",
    "df=pd.concat([courses,fees,discount],axis=1)\n",
    "print(\"Create pandas Series:\\n\",df)"
   ]
  },
  {
   "cell_type": "code",
   "execution_count": null,
   "id": "26d50aba",
   "metadata": {},
   "outputs": [],
   "source": []
  }
 ],
 "metadata": {
  "kernelspec": {
   "display_name": "Python 3",
   "language": "python",
   "name": "python3"
  },
  "language_info": {
   "codemirror_mode": {
    "name": "ipython",
    "version": 3
   },
   "file_extension": ".py",
   "mimetype": "text/x-python",
   "name": "python",
   "nbconvert_exporter": "python",
   "pygments_lexer": "ipython3",
   "version": "3.8.8"
  }
 },
 "nbformat": 4,
 "nbformat_minor": 5
}
