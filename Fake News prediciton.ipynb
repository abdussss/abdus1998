{
 "cells": [
  {
   "cell_type": "code",
   "execution_count": 43,
   "id": "18891a1f",
   "metadata": {},
   "outputs": [],
   "source": [
    "import pandas as pd\n",
    "import numpy as np\n",
    "from nltk.corpus import stopwords\n",
    "import re\n",
    "from nltk.stem.porter import PorterStemmer\n",
    "from sklearn.feature_extraction.text import TfidfVectorizer\n",
    "from sklearn.model_selection import train_test_split\n",
    "from sklearn.linear_model import LogisticRegression\n",
    "from sklearn.metrics import accuracy_score\n"
   ]
  },
  {
   "cell_type": "code",
   "execution_count": 44,
   "id": "2a10862b",
   "metadata": {},
   "outputs": [
    {
     "name": "stderr",
     "output_type": "stream",
     "text": [
      "[nltk_data] Downloading package stopwords to\n",
      "[nltk_data]     C:\\Users\\jmisa\\AppData\\Roaming\\nltk_data...\n",
      "[nltk_data]   Package stopwords is already up-to-date!\n"
     ]
    },
    {
     "data": {
      "text/plain": [
       "True"
      ]
     },
     "execution_count": 44,
     "metadata": {},
     "output_type": "execute_result"
    }
   ],
   "source": [
    "import nltk\n",
    "nltk.download('stopwords')"
   ]
  },
  {
   "cell_type": "code",
   "execution_count": 45,
   "id": "29ebe302",
   "metadata": {},
   "outputs": [
    {
     "name": "stdout",
     "output_type": "stream",
     "text": [
      "['i', 'me', 'my', 'myself', 'we', 'our', 'ours', 'ourselves', 'you', \"you're\", \"you've\", \"you'll\", \"you'd\", 'your', 'yours', 'yourself', 'yourselves', 'he', 'him', 'his', 'himself', 'she', \"she's\", 'her', 'hers', 'herself', 'it', \"it's\", 'its', 'itself', 'they', 'them', 'their', 'theirs', 'themselves', 'what', 'which', 'who', 'whom', 'this', 'that', \"that'll\", 'these', 'those', 'am', 'is', 'are', 'was', 'were', 'be', 'been', 'being', 'have', 'has', 'had', 'having', 'do', 'does', 'did', 'doing', 'a', 'an', 'the', 'and', 'but', 'if', 'or', 'because', 'as', 'until', 'while', 'of', 'at', 'by', 'for', 'with', 'about', 'against', 'between', 'into', 'through', 'during', 'before', 'after', 'above', 'below', 'to', 'from', 'up', 'down', 'in', 'out', 'on', 'off', 'over', 'under', 'again', 'further', 'then', 'once', 'here', 'there', 'when', 'where', 'why', 'how', 'all', 'any', 'both', 'each', 'few', 'more', 'most', 'other', 'some', 'such', 'no', 'nor', 'not', 'only', 'own', 'same', 'so', 'than', 'too', 'very', 's', 't', 'can', 'will', 'just', 'don', \"don't\", 'should', \"should've\", 'now', 'd', 'll', 'm', 'o', 're', 've', 'y', 'ain', 'aren', \"aren't\", 'couldn', \"couldn't\", 'didn', \"didn't\", 'doesn', \"doesn't\", 'hadn', \"hadn't\", 'hasn', \"hasn't\", 'haven', \"haven't\", 'isn', \"isn't\", 'ma', 'mightn', \"mightn't\", 'mustn', \"mustn't\", 'needn', \"needn't\", 'shan', \"shan't\", 'shouldn', \"shouldn't\", 'wasn', \"wasn't\", 'weren', \"weren't\", 'won', \"won't\", 'wouldn', \"wouldn't\"]\n"
     ]
    }
   ],
   "source": [
    "## printing stopwords of english\n",
    "print(stopwords.words('english'))"
   ]
  },
  {
   "cell_type": "code",
   "execution_count": 46,
   "id": "e3380444",
   "metadata": {},
   "outputs": [],
   "source": [
    "### DATA PREPROCESSING "
   ]
  },
  {
   "cell_type": "code",
   "execution_count": 47,
   "id": "96e8130a",
   "metadata": {},
   "outputs": [],
   "source": [
    "## LOADING THE DATA"
   ]
  },
  {
   "cell_type": "code",
   "execution_count": 48,
   "id": "0a031408",
   "metadata": {},
   "outputs": [],
   "source": [
    "news_dataset= pd.read_csv('train.csv.csv')"
   ]
  },
  {
   "cell_type": "code",
   "execution_count": 49,
   "id": "3eecc185",
   "metadata": {},
   "outputs": [
    {
     "data": {
      "text/plain": [
       "(20800, 5)"
      ]
     },
     "execution_count": 49,
     "metadata": {},
     "output_type": "execute_result"
    }
   ],
   "source": [
    "news_dataset.shape"
   ]
  },
  {
   "cell_type": "code",
   "execution_count": 50,
   "id": "f2b7ee59",
   "metadata": {},
   "outputs": [
    {
     "data": {
      "text/html": [
       "<div>\n",
       "<style scoped>\n",
       "    .dataframe tbody tr th:only-of-type {\n",
       "        vertical-align: middle;\n",
       "    }\n",
       "\n",
       "    .dataframe tbody tr th {\n",
       "        vertical-align: top;\n",
       "    }\n",
       "\n",
       "    .dataframe thead th {\n",
       "        text-align: right;\n",
       "    }\n",
       "</style>\n",
       "<table border=\"1\" class=\"dataframe\">\n",
       "  <thead>\n",
       "    <tr style=\"text-align: right;\">\n",
       "      <th></th>\n",
       "      <th>id</th>\n",
       "      <th>title</th>\n",
       "      <th>author</th>\n",
       "      <th>text</th>\n",
       "      <th>label</th>\n",
       "    </tr>\n",
       "  </thead>\n",
       "  <tbody>\n",
       "    <tr>\n",
       "      <th>0</th>\n",
       "      <td>0</td>\n",
       "      <td>House Dem Aide: We Didn’t Even See Comey’s Let...</td>\n",
       "      <td>Darrell Lucus</td>\n",
       "      <td>House Dem Aide: We Didn’t Even See Comey’s Let...</td>\n",
       "      <td>1</td>\n",
       "    </tr>\n",
       "    <tr>\n",
       "      <th>1</th>\n",
       "      <td>1</td>\n",
       "      <td>FLYNN: Hillary Clinton, Big Woman on Campus - ...</td>\n",
       "      <td>Daniel J. Flynn</td>\n",
       "      <td>Ever get the feeling your life circles the rou...</td>\n",
       "      <td>0</td>\n",
       "    </tr>\n",
       "    <tr>\n",
       "      <th>2</th>\n",
       "      <td>2</td>\n",
       "      <td>Why the Truth Might Get You Fired</td>\n",
       "      <td>Consortiumnews.com</td>\n",
       "      <td>Why the Truth Might Get You Fired October 29, ...</td>\n",
       "      <td>1</td>\n",
       "    </tr>\n",
       "    <tr>\n",
       "      <th>3</th>\n",
       "      <td>3</td>\n",
       "      <td>15 Civilians Killed In Single US Airstrike Hav...</td>\n",
       "      <td>Jessica Purkiss</td>\n",
       "      <td>Videos 15 Civilians Killed In Single US Airstr...</td>\n",
       "      <td>1</td>\n",
       "    </tr>\n",
       "    <tr>\n",
       "      <th>4</th>\n",
       "      <td>4</td>\n",
       "      <td>Iranian woman jailed for fictional unpublished...</td>\n",
       "      <td>Howard Portnoy</td>\n",
       "      <td>Print \\nAn Iranian woman has been sentenced to...</td>\n",
       "      <td>1</td>\n",
       "    </tr>\n",
       "  </tbody>\n",
       "</table>\n",
       "</div>"
      ],
      "text/plain": [
       "   id                                              title              author  \\\n",
       "0   0  House Dem Aide: We Didn’t Even See Comey’s Let...       Darrell Lucus   \n",
       "1   1  FLYNN: Hillary Clinton, Big Woman on Campus - ...     Daniel J. Flynn   \n",
       "2   2                  Why the Truth Might Get You Fired  Consortiumnews.com   \n",
       "3   3  15 Civilians Killed In Single US Airstrike Hav...     Jessica Purkiss   \n",
       "4   4  Iranian woman jailed for fictional unpublished...      Howard Portnoy   \n",
       "\n",
       "                                                text  label  \n",
       "0  House Dem Aide: We Didn’t Even See Comey’s Let...      1  \n",
       "1  Ever get the feeling your life circles the rou...      0  \n",
       "2  Why the Truth Might Get You Fired October 29, ...      1  \n",
       "3  Videos 15 Civilians Killed In Single US Airstr...      1  \n",
       "4  Print \\nAn Iranian woman has been sentenced to...      1  "
      ]
     },
     "execution_count": 50,
     "metadata": {},
     "output_type": "execute_result"
    }
   ],
   "source": [
    "news_dataset.head()"
   ]
  },
  {
   "cell_type": "code",
   "execution_count": 51,
   "id": "1dd6533d",
   "metadata": {},
   "outputs": [],
   "source": [
    "# counting the no of missing values in the dataset"
   ]
  },
  {
   "cell_type": "code",
   "execution_count": 52,
   "id": "a392701a",
   "metadata": {},
   "outputs": [
    {
     "data": {
      "text/plain": [
       "id           0\n",
       "title      558\n",
       "author    1957\n",
       "text        39\n",
       "label        0\n",
       "dtype: int64"
      ]
     },
     "execution_count": 52,
     "metadata": {},
     "output_type": "execute_result"
    }
   ],
   "source": [
    "news_dataset.isnull().sum()"
   ]
  },
  {
   "cell_type": "code",
   "execution_count": 53,
   "id": "bb73107e",
   "metadata": {},
   "outputs": [],
   "source": [
    "news_dataset = news_dataset.fillna('')"
   ]
  },
  {
   "cell_type": "code",
   "execution_count": 54,
   "id": "f8c3ca69",
   "metadata": {},
   "outputs": [],
   "source": [
    "# merging the author name and news title\n",
    "news_dataset['content']= news_dataset['author'] + ''+news_dataset['title']\n"
   ]
  },
  {
   "cell_type": "code",
   "execution_count": 55,
   "id": "5e9bbdfc",
   "metadata": {},
   "outputs": [
    {
     "name": "stdout",
     "output_type": "stream",
     "text": [
      "0        Darrell LucusHouse Dem Aide: We Didn’t Even Se...\n",
      "1        Daniel J. FlynnFLYNN: Hillary Clinton, Big Wom...\n",
      "2        Consortiumnews.comWhy the Truth Might Get You ...\n",
      "3        Jessica Purkiss15 Civilians Killed In Single U...\n",
      "4        Howard PortnoyIranian woman jailed for fiction...\n",
      "                               ...                        \n",
      "20795    Jerome HudsonRapper T.I.: Trump a ’Poster Chil...\n",
      "20796    Benjamin HoffmanN.F.L. Playoffs: Schedule, Mat...\n",
      "20797    Michael J. de la Merced and Rachel AbramsMacy’...\n",
      "20798    Alex AnsaryNATO, Russia To Hold Parallel Exerc...\n",
      "20799               David SwansonWhat Keeps the F-35 Alive\n",
      "Name: content, Length: 20800, dtype: object\n"
     ]
    }
   ],
   "source": [
    "print(news_dataset['content'])"
   ]
  },
  {
   "cell_type": "code",
   "execution_count": 56,
   "id": "b4e6848d",
   "metadata": {},
   "outputs": [],
   "source": [
    "X=news_dataset.drop(columns='label', axis =1 )\n",
    "y= news_dataset['content']"
   ]
  },
  {
   "cell_type": "code",
   "execution_count": 57,
   "id": "5e9cba04",
   "metadata": {},
   "outputs": [
    {
     "name": "stdout",
     "output_type": "stream",
     "text": [
      "          id                                              title  \\\n",
      "0          0  House Dem Aide: We Didn’t Even See Comey’s Let...   \n",
      "1          1  FLYNN: Hillary Clinton, Big Woman on Campus - ...   \n",
      "2          2                  Why the Truth Might Get You Fired   \n",
      "3          3  15 Civilians Killed In Single US Airstrike Hav...   \n",
      "4          4  Iranian woman jailed for fictional unpublished...   \n",
      "...      ...                                                ...   \n",
      "20795  20795  Rapper T.I.: Trump a ’Poster Child For White S...   \n",
      "20796  20796  N.F.L. Playoffs: Schedule, Matchups and Odds -...   \n",
      "20797  20797  Macy’s Is Said to Receive Takeover Approach by...   \n",
      "20798  20798  NATO, Russia To Hold Parallel Exercises In Bal...   \n",
      "20799  20799                          What Keeps the F-35 Alive   \n",
      "\n",
      "                                          author  \\\n",
      "0                                  Darrell Lucus   \n",
      "1                                Daniel J. Flynn   \n",
      "2                             Consortiumnews.com   \n",
      "3                                Jessica Purkiss   \n",
      "4                                 Howard Portnoy   \n",
      "...                                          ...   \n",
      "20795                              Jerome Hudson   \n",
      "20796                           Benjamin Hoffman   \n",
      "20797  Michael J. de la Merced and Rachel Abrams   \n",
      "20798                                Alex Ansary   \n",
      "20799                              David Swanson   \n",
      "\n",
      "                                                    text  \\\n",
      "0      House Dem Aide: We Didn’t Even See Comey’s Let...   \n",
      "1      Ever get the feeling your life circles the rou...   \n",
      "2      Why the Truth Might Get You Fired October 29, ...   \n",
      "3      Videos 15 Civilians Killed In Single US Airstr...   \n",
      "4      Print \\nAn Iranian woman has been sentenced to...   \n",
      "...                                                  ...   \n",
      "20795  Rapper T. I. unloaded on black celebrities who...   \n",
      "20796  When the Green Bay Packers lost to the Washing...   \n",
      "20797  The Macy’s of today grew from the union of sev...   \n",
      "20798  NATO, Russia To Hold Parallel Exercises In Bal...   \n",
      "20799    David Swanson is an author, activist, journa...   \n",
      "\n",
      "                                                 content  \n",
      "0      Darrell LucusHouse Dem Aide: We Didn’t Even Se...  \n",
      "1      Daniel J. FlynnFLYNN: Hillary Clinton, Big Wom...  \n",
      "2      Consortiumnews.comWhy the Truth Might Get You ...  \n",
      "3      Jessica Purkiss15 Civilians Killed In Single U...  \n",
      "4      Howard PortnoyIranian woman jailed for fiction...  \n",
      "...                                                  ...  \n",
      "20795  Jerome HudsonRapper T.I.: Trump a ’Poster Chil...  \n",
      "20796  Benjamin HoffmanN.F.L. Playoffs: Schedule, Mat...  \n",
      "20797  Michael J. de la Merced and Rachel AbramsMacy’...  \n",
      "20798  Alex AnsaryNATO, Russia To Hold Parallel Exerc...  \n",
      "20799             David SwansonWhat Keeps the F-35 Alive  \n",
      "\n",
      "[20800 rows x 5 columns]\n"
     ]
    }
   ],
   "source": [
    "print(X)"
   ]
  },
  {
   "cell_type": "code",
   "execution_count": 58,
   "id": "55130bed",
   "metadata": {},
   "outputs": [],
   "source": [
    "# stemming \n",
    "port_stem = PorterStemmer()"
   ]
  },
  {
   "cell_type": "code",
   "execution_count": 61,
   "id": "ab758fde",
   "metadata": {},
   "outputs": [],
   "source": [
    "def stemming(content):\n",
    "    stemmed_content=re.sub('[^a-zA-Z]',' ', content)\n",
    "    stemmed_content = stemmed_content.lower()\n",
    "    stemmed_content = stemmed_content.split()\n",
    "    stemmed_content = [port_stem.stem(word) for word in stemmed_content if not word in stopwords.words('english')]\n",
    "    stemmed_content = ' '.join(stemmed_content)\n",
    "    return stemmed_content"
   ]
  },
  {
   "cell_type": "code",
   "execution_count": 62,
   "id": "9da78c67",
   "metadata": {},
   "outputs": [],
   "source": [
    "news_dataset['content']= news_dataset['content'].apply(stemming)"
   ]
  },
  {
   "cell_type": "code",
   "execution_count": 63,
   "id": "1231a85b",
   "metadata": {},
   "outputs": [
    {
     "data": {
      "text/plain": [
       "0        darrel lucushous dem aid even see comey letter...\n",
       "1        daniel j flynnflynn hillari clinton big woman ...\n",
       "2                consortiumnew comwhi truth might get fire\n",
       "3        jessica purkiss civilian kill singl us airstri...\n",
       "4        howard portnoyiranian woman jail fiction unpub...\n",
       "                               ...                        \n",
       "20795    jerom hudsonrapp trump poster child white supr...\n",
       "20796    benjamin hoffmann f l playoff schedul matchup ...\n",
       "20797    michael j de la merc rachel abramsmaci said re...\n",
       "20798    alex ansarynato russia hold parallel exercis b...\n",
       "20799                        david swansonwhat keep f aliv\n",
       "Name: content, Length: 20800, dtype: object"
      ]
     },
     "execution_count": 63,
     "metadata": {},
     "output_type": "execute_result"
    }
   ],
   "source": [
    "news_dataset['content']"
   ]
  },
  {
   "cell_type": "code",
   "execution_count": 66,
   "id": "c5fa397d",
   "metadata": {},
   "outputs": [],
   "source": [
    "X = news_dataset['content']\n",
    "y = news_dataset['label']"
   ]
  },
  {
   "cell_type": "code",
   "execution_count": 69,
   "id": "bfd92b50",
   "metadata": {},
   "outputs": [],
   "source": [
    "vectorizer= TfidfVectorizer()\n",
    "vectorizer.fit(X)\n",
    "X = vectorizer.transform(X)"
   ]
  },
  {
   "cell_type": "code",
   "execution_count": 70,
   "id": "e18fa8ff",
   "metadata": {},
   "outputs": [
    {
     "name": "stdout",
     "output_type": "stream",
     "text": [
      "  (0, 26340)\t0.28088379401596425\n",
      "  (0, 22724)\t0.2552336018069161\n",
      "  (0, 15019)\t0.43006226759639316\n",
      "  (0, 14555)\t0.29177259684200296\n",
      "  (0, 12782)\t0.24619727512767195\n",
      "  (0, 8022)\t0.23133661742488731\n",
      "  (0, 6273)\t0.2839932825877813\n",
      "  (0, 5969)\t0.35488202138141456\n",
      "  (0, 5006)\t0.2472595823572816\n",
      "  (0, 4211)\t0.3625320323150658\n",
      "  (0, 578)\t0.2694167078545385\n",
      "  (1, 27923)\t0.36911845953845024\n",
      "  (1, 11313)\t0.24166773097712638\n",
      "  (1, 8772)\t0.5258635625386451\n",
      "  (1, 5916)\t0.31810058109638056\n",
      "  (1, 4767)\t0.23338756776626793\n",
      "  (1, 3859)\t0.45980466668763476\n",
      "  (1, 3281)\t0.18652439327549428\n",
      "  (1, 2622)\t0.3562953366945267\n",
      "  (2, 26235)\t0.3665032495181434\n",
      "  (2, 16361)\t0.43295215406038445\n",
      "  (2, 9454)\t0.30743020569262086\n",
      "  (2, 8567)\t0.3411947414020896\n",
      "  (2, 5240)\t0.40440534260277944\n",
      "  (2, 5121)\t0.5511414848555652\n",
      "  :\t:\n",
      "  (20797, 25776)\t0.08220218573989037\n",
      "  (20797, 25319)\t0.3119640221826561\n",
      "  (20797, 22086)\t0.24902354987792552\n",
      "  (20797, 20778)\t0.2729578683228216\n",
      "  (20797, 20493)\t0.249994989010826\n",
      "  (20797, 17505)\t0.08090456115716123\n",
      "  (20797, 16315)\t0.1785200594251359\n",
      "  (20797, 16217)\t0.3273246827604847\n",
      "  (20797, 14104)\t0.22761807337911874\n",
      "  (20797, 11692)\t0.2992170910232368\n",
      "  (20797, 6088)\t0.21253094503918346\n",
      "  (20797, 2257)\t0.3357782642976524\n",
      "  (20797, 1249)\t0.3072223353708335\n",
      "  (20797, 72)\t0.38829670969848273\n",
      "  (20798, 21937)\t0.2284042880065583\n",
      "  (20798, 18760)\t0.43981843518920394\n",
      "  (20798, 11434)\t0.3219420705942853\n",
      "  (20798, 8095)\t0.40266358130888547\n",
      "  (20798, 1921)\t0.43981843518920394\n",
      "  (20798, 1081)\t0.4638903157542853\n",
      "  (20798, 697)\t0.2827933658592677\n",
      "  (20799, 25148)\t0.6713314187498636\n",
      "  (20799, 13329)\t0.4138037375613909\n",
      "  (20799, 6018)\t0.345590335823275\n",
      "  (20799, 732)\t0.5085743925573473\n"
     ]
    }
   ],
   "source": [
    "print(X)"
   ]
  },
  {
   "cell_type": "code",
   "execution_count": 73,
   "id": "d7ea69fd",
   "metadata": {},
   "outputs": [],
   "source": [
    "X_train , X_test , y_train , y_test  = train_test_split(X,y,test_size = 0.2 , stratify = y , random_state = 2)"
   ]
  },
  {
   "cell_type": "code",
   "execution_count": 74,
   "id": "c4d9f8fe",
   "metadata": {},
   "outputs": [],
   "source": [
    "model = LogisticRegression()"
   ]
  },
  {
   "cell_type": "code",
   "execution_count": 75,
   "id": "fff30440",
   "metadata": {},
   "outputs": [
    {
     "data": {
      "text/plain": [
       "LogisticRegression()"
      ]
     },
     "execution_count": 75,
     "metadata": {},
     "output_type": "execute_result"
    }
   ],
   "source": [
    " model.fit(X_train,y_train)"
   ]
  },
  {
   "cell_type": "code",
   "execution_count": 76,
   "id": "62a12158",
   "metadata": {},
   "outputs": [],
   "source": [
    "##accuracy score on the training data\n",
    "X_train_prediction = model.predict(X_train)\n",
    "traing_data_accuracy = accuracy_score(X_train_prediction , y_train)"
   ]
  },
  {
   "cell_type": "code",
   "execution_count": 77,
   "id": "7d5906c2",
   "metadata": {},
   "outputs": [
    {
     "name": "stdout",
     "output_type": "stream",
     "text": [
      "Accuracy score of the training data : 0.9719951923076923\n"
     ]
    }
   ],
   "source": [
    "print('Accuracy score of the training data :' , traing_data_accuracy)"
   ]
  },
  {
   "cell_type": "code",
   "execution_count": 78,
   "id": "2b6f034b",
   "metadata": {},
   "outputs": [],
   "source": [
    "X_test_prediction = model.predict(X_test)\n",
    "test_data_accuracy = accuracy_score(X_test_prediction , y_test)"
   ]
  },
  {
   "cell_type": "code",
   "execution_count": 79,
   "id": "cb6d2daf",
   "metadata": {},
   "outputs": [
    {
     "name": "stdout",
     "output_type": "stream",
     "text": [
      "0.9548076923076924\n"
     ]
    }
   ],
   "source": [
    "print(test_data_accuracy)"
   ]
  },
  {
   "cell_type": "code",
   "execution_count": 80,
   "id": "6e23c7b4",
   "metadata": {},
   "outputs": [],
   "source": [
    "##making a predictive system"
   ]
  },
  {
   "cell_type": "code",
   "execution_count": 85,
   "id": "7eea75e0",
   "metadata": {},
   "outputs": [
    {
     "name": "stdout",
     "output_type": "stream",
     "text": [
      "news is fake\n"
     ]
    }
   ],
   "source": [
    "X_new = X_test[0]\n",
    "prediction = model.predict(X_new)\n",
    "if (prediction[0]== 0):\n",
    "    print('News is real')\n",
    "    \n",
    "else :\n",
    "    print(\"news is fake\")"
   ]
  },
  {
   "cell_type": "code",
   "execution_count": 86,
   "id": "550af95b",
   "metadata": {},
   "outputs": [
    {
     "name": "stdout",
     "output_type": "stream",
     "text": [
      "[1]\n"
     ]
    }
   ],
   "source": []
  },
  {
   "cell_type": "code",
   "execution_count": null,
   "id": "74946142",
   "metadata": {},
   "outputs": [],
   "source": []
  }
 ],
 "metadata": {
  "kernelspec": {
   "display_name": "Python 3",
   "language": "python",
   "name": "python3"
  },
  "language_info": {
   "codemirror_mode": {
    "name": "ipython",
    "version": 3
   },
   "file_extension": ".py",
   "mimetype": "text/x-python",
   "name": "python",
   "nbconvert_exporter": "python",
   "pygments_lexer": "ipython3",
   "version": "3.8.8"
  }
 },
 "nbformat": 4,
 "nbformat_minor": 5
}
